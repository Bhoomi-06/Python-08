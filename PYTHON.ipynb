{
  "nbformat": 4,
  "nbformat_minor": 0,
  "metadata": {
    "colab": {
      "provenance": [],
      "authorship_tag": "ABX9TyNhNsMBKEgY1EUzOtcnFrQ/",
      "include_colab_link": true
    },
    "kernelspec": {
      "name": "python3",
      "display_name": "Python 3"
    },
    "language_info": {
      "name": "python"
    }
  },
  "cells": [
    {
      "cell_type": "markdown",
      "metadata": {
        "id": "view-in-github",
        "colab_type": "text"
      },
      "source": [
        "<a href=\"https://colab.research.google.com/github/Bhoomi-06/Python-08/blob/main/PYTHON.ipynb\" target=\"_parent\"><img src=\"https://colab.research.google.com/assets/colab-badge.svg\" alt=\"Open In Colab\"/></a>"
      ]
    },
    {
      "cell_type": "code",
      "execution_count": null,
      "metadata": {
        "colab": {
          "base_uri": "https://localhost:8080/"
        },
        "collapsed": true,
        "id": "nTUDjCuPe8yf",
        "outputId": "fd88934d-617f-4b8f-fbec-f7787062760a"
      },
      "outputs": [
        {
          "output_type": "stream",
          "name": "stdout",
          "text": [
            "enter S1=67\n",
            "enter S2=89\n",
            "enter S3=69\n",
            "enter S4=75\n",
            "enter S5=74\n",
            "74.8 %\n"
          ]
        }
      ],
      "source": [
        "#percentage\n",
        "S1=int(input(\"enter S1=\"))\n",
        "S2=int(input(\"enter S2=\"))\n",
        "S3=int(input(\"enter S3=\"))\n",
        "S4=int(input(\"enter S4=\"))\n",
        "S5=int(input(\"enter S5=\"))\n",
        "per=(S1+S2+S3+S4+S5)/5\n",
        "print(per, \"%\")"
      ]
    },
    {
      "cell_type": "code",
      "source": [
        "\n",
        "#percentage class\n",
        "s1=int(input(\"enter s1=\"))\n",
        "s2=int(input(\"enter s2=\"))\n",
        "s3=int(input(\"enter s3=\"))\n",
        "s4=int(input(\"enter s4=\"))\n",
        "s5=int(input(\"enter s5=\"))\n",
        "per=(s1+s2+s3+s4+s5)/500*100\n",
        "print(per, \"%\")\n",
        "if(per<35):\n",
        "   print(\"Fail\")\n",
        "elif(per<40):\n",
        "   print(\"pass class\")\n",
        "elif(per<60):\n",
        "   print(\"second class\")\n",
        "elif(per<75):\n",
        "   print(\"first class\")\n",
        "elif(per>101):\n",
        "   print(\"Not applicable\")\n",
        "else:\n",
        "   print(\"distinction\")"
      ],
      "metadata": {
        "id": "v37RNLm2g5N4",
        "colab": {
          "base_uri": "https://localhost:8080/"
        },
        "collapsed": true,
        "outputId": "977c60bd-94df-4873-8752-1c7081f2f47d"
      },
      "execution_count": null,
      "outputs": [
        {
          "output_type": "stream",
          "name": "stdout",
          "text": [
            "enter s1=67\n",
            "enter s2=89\n",
            "enter s3=93\n",
            "enter s4=69\n",
            "enter s5=40\n",
            "71.6 %\n",
            "first class\n"
          ]
        }
      ]
    },
    {
      "cell_type": "code",
      "source": [
        "#eligible for job or not\n",
        "age=int(input (\"enter age=\"))\n",
        "if age<16:\n",
        "   print(\"not eligible\")\n",
        "elif age<=18:\n",
        "   print(\"part time job \")\n",
        "elif age<65:\n",
        "   print(\" Full time job \")\n",
        "else:\n",
        "   print(\" Invalid\")"
      ],
      "metadata": {
        "colab": {
          "base_uri": "https://localhost:8080/"
        },
        "collapsed": true,
        "id": "Q3yGOm1fkGI4",
        "outputId": "62f6b88e-7797-4def-f049-8fe4dbe838dd"
      },
      "execution_count": null,
      "outputs": [
        {
          "output_type": "stream",
          "name": "stdout",
          "text": [
            "enter age=18\n",
            "part time job \n"
          ]
        }
      ]
    },
    {
      "cell_type": "code",
      "source": [
        "#short code for job\n",
        "age=int(input (\"enter your age \"))\n",
        "print(\" Not eligible \") if (age<16) else (\"part time job\") if (age>16 and age<=18) else print(\" Full time job\") if (age>18 and age<=65) else print (\"invalid\")"
      ],
      "metadata": {
        "id": "8ssztWcDlLI3",
        "colab": {
          "base_uri": "https://localhost:8080/"
        },
        "outputId": "5567c625-2ff4-407f-cf3c-8f674f3e755d"
      },
      "execution_count": null,
      "outputs": [
        {
          "output_type": "stream",
          "name": "stdout",
          "text": [
            "enter your age 45\n",
            " Full time job\n"
          ]
        }
      ]
    },
    {
      "cell_type": "code",
      "source": [
        "a=input(\"enter your choice,whether you want breakfast,lunch or dinner=\")\n",
        "if a==\"breakfast\":\n",
        " choice=input(\"enter your choice,whether you want western dish or north-indian dish=\")\n",
        " if choice==\"western\":\n",
        "    wd=input(\"you have 2 choice for western-pancakes or sandwich..enter your choice=\")\n",
        "    if wd==\"pancakes\":\n",
        "        print(\"you have ordered pancakes for breakfast\")\n",
        "    elif wd==\"sandwich\":\n",
        "        print(\"you have ordered sandwich for breakfast\")\n",
        "    else:\n",
        "        print(\"no other dish available\")\n",
        " if choice==\"north-indian\":\n",
        "     ni=input(\"you have 2 choice for north-indian dish-poha or upma...enter your choice=\")\n",
        "     if ni==\"poha\":\n",
        "         print(\"you have ordered poha for breakfast\")\n",
        "     elif ni==\"upma\":\n",
        "         print(\"you have ordered poha for breakfast\")\n",
        "     else:\n",
        "         print('no other dish available')\n",
        "if a==\"lunch\":\n",
        "    choice=input(\"enter your choice whether you want south-indian dish or north-indian dish=\")\n",
        "    if choice==\"south-indian\":\n",
        "        si=input(\"you have 2 choice for south-indian dish-mango rasam or banana leaf plate..enter your choice= \")\n",
        "        if si==\"mango rasam\":\n",
        "            print(\"you have ordered mango rasam for lunch\")\n",
        "        elif si==\"banana leaf plate\":\n",
        "            print(\"you have ordered banana leaf plate for lunch\")\n",
        "        else:\n",
        "            print(\"no other dish available for now\")\n",
        "    if choice==\"north-indian\":\n",
        "        ni=input(\"you have 2 choice for north-indian dish-rajma rice or dal rice...enter your choice=\")\n",
        "        if ni==\"rajma rice\":\n",
        "            print(\"you have ordered rajma rice\")\n",
        "        elif ni==\"dal rice\":\n",
        "            print(\"you have ordered dal rice\")\n",
        "        else:\n",
        "            print(\"no other food available for now\")\n",
        "if a==\"dinner\":\n",
        "    choice=input(\"enter your choice whether you want south-indian dish or north-indian dish=\")\n",
        "    if choice==\"south-indian\":\n",
        "        si=input(\"you have 2 choice for south-indian dish-korri gassi or bisi bele bhaat...enter your choice= \")\n",
        "        if si==\"korri gassi\":\n",
        "            print(\"you have ordered\")\n",
        "        elif si==\"gassi bisi bele\":\n",
        "            print(\"you have ordered gassi bisi bele\")\n",
        "        else:\n",
        "            print(\"no other food available for now\")\n",
        "    if choice==\"north-indian\":\n",
        "        ni=input(\"you have 2 choice for north-indian dish-kadai paneer with naan or paneer tikka with pulaav...enter your choice=\")\n",
        "        if ni==\"kadai paneer with naan\":\n",
        "            print(\"you have ordered kadai paneer with naan\")\n",
        "        elif ni==\"paneer tikka with pulaav\":\n",
        "            print(\"you have ordered paneer tikka with pulaav\")\n",
        "        else:\n",
        "            print(\"no other food available for now\")"
      ],
      "metadata": {
        "id": "FIzaelnf1Ym0",
        "colab": {
          "base_uri": "https://localhost:8080/"
        },
        "collapsed": true,
        "outputId": "2385102c-7f37-42a4-a754-fdafd6ab7f72"
      },
      "execution_count": null,
      "outputs": [
        {
          "output_type": "stream",
          "name": "stdout",
          "text": [
            "enter your choice,whether you want breakfast,lunch or dinner=breakfast\n",
            "enter your choice,whether you want western dish or north-indian dish=western\n",
            "you have 2 choice for western-pancakes or sandwich..enter your choice=pancakes\n",
            "you have ordered pancakes for breakfast\n"
          ]
        }
      ]
    },
    {
      "cell_type": "code",
      "source": [
        "#0-100 divisible by 5\n",
        "for i in range(0, 101,5):\n",
        "    print(i)"
      ],
      "metadata": {
        "colab": {
          "base_uri": "https://localhost:8080/"
        },
        "collapsed": true,
        "id": "5bhE4l9IjIMH",
        "outputId": "6c9a6b50-3951-44b4-abb8-bd1bfb2abc30"
      },
      "execution_count": null,
      "outputs": [
        {
          "output_type": "stream",
          "name": "stdout",
          "text": [
            "0\n",
            "5\n",
            "10\n",
            "15\n",
            "20\n",
            "25\n",
            "30\n",
            "35\n",
            "40\n",
            "45\n",
            "50\n",
            "55\n",
            "60\n",
            "65\n",
            "70\n",
            "75\n",
            "80\n",
            "85\n",
            "90\n",
            "95\n",
            "100\n"
          ]
        }
      ]
    },
    {
      "cell_type": "code",
      "source": [
        "#multiplication table\n",
        "a=int(input(\"enter no. =\"))\n",
        "for i in range(1, 11):\n",
        "   print(a, \"x\", i, \"=\", a*i)"
      ],
      "metadata": {
        "colab": {
          "base_uri": "https://localhost:8080/"
        },
        "collapsed": true,
        "id": "dErFRrFUj5Bz",
        "outputId": "556e04c4-32e1-41bf-b4cc-976181835385"
      },
      "execution_count": null,
      "outputs": [
        {
          "output_type": "stream",
          "name": "stdout",
          "text": [
            "enter no. =6\n",
            "6 x 1 = 6\n",
            "6 x 2 = 12\n",
            "6 x 3 = 18\n",
            "6 x 4 = 24\n",
            "6 x 5 = 30\n",
            "6 x 6 = 36\n",
            "6 x 7 = 42\n",
            "6 x 8 = 48\n",
            "6 x 9 = 54\n",
            "6 x 10 = 60\n"
          ]
        }
      ]
    }
  ]
}